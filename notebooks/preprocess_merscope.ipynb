{
 "cells": [
  {
   "cell_type": "code",
   "execution_count": null,
   "metadata": {},
   "outputs": [],
   "source": [
    "\"\"\"\n",
    "MERSCOPE dir\n",
    "------------\n",
    "├── cell_boundaries/\n",
    "│   ├── feature_data_#.hdf5\n",
    "│   ├── ...\n",
    "│   └── feature_data_n.hdf5\n",
    "├── cell_by_gene.csv\n",
    "├── cell_metadata.csv\n",
    "├── detected_transcripts.csv\n",
    "└── images/\n",
    "    ├── micron_to_mosaic_pixel_transform.csv\n",
    "    ├── mosaic_[type]_z#.tif\n",
    "    ├── ...\n",
    "    └── mosaic_[type]_zn.tif\n",
    "\"\"\""
   ]
  },
  {
   "cell_type": "code",
   "execution_count": null,
   "metadata": {},
   "outputs": [],
   "source": [
    "merscope_dir = \"/path/to/directory/\""
   ]
  },
  {
   "cell_type": "markdown",
   "metadata": {},
   "source": [
    "### Generate h5ad file"
   ]
  },
  {
   "cell_type": "code",
   "execution_count": null,
   "metadata": {},
   "outputs": [],
   "source": [
    "import os\n",
    "import numpy as np\n",
    "import pandas as pd\n",
    "import anndata as ad"
   ]
  },
  {
   "cell_type": "code",
   "execution_count": null,
   "metadata": {},
   "outputs": [],
   "source": [
    "out_dir = \"./\"\n",
    "out_h5ad_filename = \"merscope\""
   ]
  },
  {
   "cell_type": "code",
   "execution_count": null,
   "metadata": {},
   "outputs": [],
   "source": [
    "m = pd.read_csv(os.path.join(merscope_dir, \"cell_by_gene.csv\"), index_col=0)\n",
    "m = m.loc[:,~m.columns.str.startswith('Blank-')]\n",
    "m.index = m.index.astype(str)"
   ]
  },
  {
   "cell_type": "code",
   "execution_count": null,
   "metadata": {},
   "outputs": [],
   "source": [
    "cells = pd.read_csv(os.path.join(merscope_dir, \"cell_metadata.csv\"), index_col=0)\n",
    "cells.index = cells.index.astype(str)"
   ]
  },
  {
   "cell_type": "code",
   "execution_count": null,
   "metadata": {},
   "outputs": [],
   "source": [
    "adata = ad.AnnData(\n",
    "    m.to_numpy(),\n",
    "    dtype=np.float32,\n",
    "    obs=cells.loc[m.index],\n",
    "    var=m.columns.to_frame(name=\"gene\")\n",
    "    )\n",
    "\n",
    "adata.obs[\"total_counts\"] = adata.X.sum(axis=1)\n",
    "adata.obs[\"n_genes_by_counts\"] = (adata.X > 0).sum(axis=1)\n",
    "\n",
    "adata.var[\"total_counts\"] = adata.X.sum(axis=0)\n",
    "adata.var[\"n_cells_by_counts\"] = (adata.X > 0).sum(axis=0)"
   ]
  },
  {
   "cell_type": "code",
   "execution_count": null,
   "metadata": {},
   "outputs": [],
   "source": [
    "tm = pd.read_csv(\n",
    "    os.path.join(merscope_dir, \"images\", \"micron_to_mosaic_pixel_transform.csv\"),\n",
    "    sep=\" \",\n",
    "    header=None,\n",
    "    dtype=float\n",
    "    ).values\n",
    "\n",
    "sp_coords = adata.obs[[\"center_x\", \"center_y\"]].values\n",
    "sp_coords[:,0] = sp_coords[:,0] * tm[0, 0] + tm[0, 2]\n",
    "sp_coords[:,1] = sp_coords[:,1] * tm[1, 1] + tm[1, 2]\n",
    "\n",
    "adata.obsm[\"spatial\"] = sp_coords"
   ]
  },
  {
   "cell_type": "code",
   "execution_count": null,
   "metadata": {},
   "outputs": [],
   "source": [
    "adata.write_h5ad(os.path.join(out_dir, out_h5ad_filename + \".h5ad\"))"
   ]
  },
  {
   "cell_type": "markdown",
   "metadata": {},
   "source": [
    "### Concatenate raw tif images"
   ]
  },
  {
   "cell_type": "code",
   "execution_count": null,
   "metadata": {},
   "outputs": [],
   "source": [
    "import os\n",
    "import pyvips"
   ]
  },
  {
   "cell_type": "code",
   "execution_count": null,
   "metadata": {},
   "outputs": [],
   "source": [
    "out_dir = \"./\"\n",
    "\n",
    "# z indices to process\n",
    "process_z = {0} # or None for all"
   ]
  },
  {
   "cell_type": "code",
   "execution_count": null,
   "metadata": {},
   "outputs": [],
   "source": [
    "imgs = [ x for x in os.listdir(os.path.join(merscope_dir, \"images\")) if x.endswith(\".tif\") ]\n",
    "imgs.sort()\n",
    "\n",
    "z_imgs = set([ os.path.splitext(x)[0].split(\"_\")[2] for x in imgs ])\n",
    "if process_z and len(process_z):\n",
    "    z_imgs = z_imgs.intersection(set([ \"z{}\".format(x) for x in process_z]))"
   ]
  },
  {
   "cell_type": "code",
   "execution_count": null,
   "metadata": {},
   "outputs": [],
   "source": [
    "for z in z_imgs:\n",
    "    t_imgs = [ x for x in imgs if x.endswith(\"{}.tif\".format(z)) ]\n",
    "    channels = [ x.split(\"_\")[1] for x in t_imgs ]\n",
    "\n",
    "    v_imgs = [\n",
    "        pyvips.Image.new_from_file(os.path.join(merscope_dir, \"images\", x), access=\"sequential\")\n",
    "        for x in t_imgs\n",
    "    ]\n",
    "    z_img = pyvips.Image.arrayjoin(v_imgs, across=1)\n",
    "    z_img = z_img.copy()\n",
    "    z_img.set_type(pyvips.GValue.gint_type, \"page-height\", v_imgs[0].height)\n",
    "\n",
    "    xml_channels = \"\".join([ f\"\"\"<Channel ID=\"Channel:0:{x}\" SamplesPerPixel=\"1\" Name=\"{c}\"><LightPath/></Channel>\"\"\" for x,c in enumerate(channels) ])\n",
    "\n",
    "    z_img.set_type(pyvips.GValue.gstr_type, \"image-description\", \n",
    "        \" \".join(f\"\"\"<?xml version=\"1.0\" encoding=\"UTF-8\"?>\n",
    "        <OME xmlns=\"http://www.openmicroscopy.org/Schemas/OME/2016-06\"\n",
    "            xmlns:xsi=\"http://www.w3.org/2001/XMLSchema-instance\"\n",
    "            xsi:schemaLocation=\"http://www.openmicroscopy.org/Schemas/OME/2016-06 http://www.openmicroscopy.org/Schemas/OME/2016-06/ome.xsd\">\n",
    "            <Image ID=\"Image:0\">\n",
    "                <Pixels DimensionOrder=\"XYCZT\"\n",
    "                        ID=\"Pixels:0\"\n",
    "                        SizeC=\"{len(v_imgs)}\"\n",
    "                        SizeT=\"1\"\n",
    "                        SizeX=\"{v_imgs[0].width}\"\n",
    "                        SizeY=\"{v_imgs[0].height}\"\n",
    "                        SizeZ=\"1\"\n",
    "                        Type=\"uint16\">\n",
    "                        {xml_channels}\n",
    "                </Pixels>\n",
    "            </Image>\n",
    "        </OME>\"\"\".split()))\n",
    "\n",
    "    print(\"Writing tif image {} ...\".format(z))\n",
    "    z_img.tiffsave(os.path.join(out_dir, \"mosaic_{}.tif\".format(z)), bigtiff=True)"
   ]
  },
  {
   "cell_type": "markdown",
   "metadata": {},
   "source": [
    "### Generate label image"
   ]
  },
  {
   "cell_type": "code",
   "execution_count": null,
   "metadata": {},
   "outputs": [],
   "source": [
    "import os\n",
    "import h5py\n",
    "import tifffile\n",
    "import numpy as np\n",
    "import pandas as pd\n",
    "from skimage.draw import polygon"
   ]
  },
  {
   "cell_type": "code",
   "execution_count": null,
   "metadata": {},
   "outputs": [],
   "source": [
    "out_dir = \"./\"\n",
    "\n",
    "# z indices to process\n",
    "process_z = {0}"
   ]
  },
  {
   "cell_type": "code",
   "execution_count": null,
   "metadata": {},
   "outputs": [],
   "source": [
    "raw_img = [ x for x in os.listdir(os.path.join(merscope_dir, \"images\")) if x.endswith(\".tif\")][0]\n",
    "tif = tifffile.TiffFile(os.path.join(merscope_dir, \"images\", raw_img))\n",
    "height, width = tif.pages[0].shape"
   ]
  },
  {
   "cell_type": "code",
   "execution_count": null,
   "metadata": {},
   "outputs": [],
   "source": [
    "tm = pd.read_csv(\n",
    "    os.path.join(merscope_dir, \"images\", \"micron_to_mosaic_pixel_transform.csv\"),\n",
    "    sep=\" \",\n",
    "    header=None,\n",
    "    dtype=float\n",
    "    ).values"
   ]
  },
  {
   "cell_type": "code",
   "execution_count": null,
   "metadata": {},
   "outputs": [],
   "source": [
    "fovs = [ x for x in os.listdir(os.path.join(merscope_dir, \"cell_boundaries\")) if x.endswith(\".hdf5\") ]\n",
    "\n",
    "for z, z_index in [ (x, \"zIndex_{}\".format(x)) for x in process_z ]:\n",
    "\n",
    "    label = np.zeros((height, width), dtype=np.uint32)\n",
    "\n",
    "    for fov in fovs:\n",
    "        with h5py.File(os.path.join(merscope_dir, \"cell_boundaries\", fov)) as f:\n",
    "            for cell_id in f[\"featuredata\"].keys():\n",
    "                pol = f[\"featuredata\"][cell_id][z_index][\"p_0\"][\"coordinates\"][0]\n",
    "\n",
    "                pol[:,0] = pol[:,0] * tm[0,0] + tm[0,2]\n",
    "                pol[:,1] = pol[:,1] * tm[1,1] + tm[1,2]\n",
    "\n",
    "                rr, cc = polygon(pol[:,1], pol[:,0])\n",
    "                label[rr-1, cc-1] = int(cell_id)\n",
    "                \n",
    "    print(\"Writing label tif image {} ...\".format(z))\n",
    "    tifffile.imwrite(os.path.join(out_dir, \"label_mosaic_z{}.tif\".format(z)), label)"
   ]
  },
  {
   "cell_type": "code",
   "execution_count": null,
   "metadata": {},
   "outputs": [],
   "source": []
  }
 ],
 "metadata": {
  "kernelspec": {
   "display_name": "Python 3.10.8 64-bit",
   "language": "python",
   "name": "python3"
  },
  "language_info": {
   "codemirror_mode": {
    "name": "ipython",
    "version": 3
   },
   "file_extension": ".py",
   "mimetype": "text/x-python",
   "name": "python",
   "nbconvert_exporter": "python",
   "pygments_lexer": "ipython3",
   "version": "3.10.8"
  },
  "orig_nbformat": 4,
  "vscode": {
   "interpreter": {
    "hash": "b0fa6594d8f4cbf19f97940f81e996739fb7646882a419484c72d19e05852a7e"
   }
  }
 },
 "nbformat": 4,
 "nbformat_minor": 2
}
