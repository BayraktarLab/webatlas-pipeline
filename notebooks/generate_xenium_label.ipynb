{
 "cells": [
  {
   "cell_type": "code",
   "execution_count": 2,
   "metadata": {},
   "outputs": [],
   "source": [
    "import os\n",
    "import tifffile\n",
    "import zarr\n",
    "import numpy as np\n",
    "from skimage.draw import polygon"
   ]
  },
  {
   "cell_type": "code",
   "execution_count": null,
   "metadata": {},
   "outputs": [],
   "source": [
    "zarr_dir = \"/path/to/xenium_output/cells.zarr.zip\"\n",
    "out_dir = \"./\"\n",
    "\n",
    "res = 0.2125 # xenium pixel resolution"
   ]
  },
  {
   "cell_type": "code",
   "execution_count": null,
   "metadata": {},
   "outputs": [],
   "source": [
    "width = 10000 # raw image width\n",
    "height = 10000 # raw image height\n",
    "\n",
    "# or\n",
    "\n",
    "# raw_img = \"/path/to/xenium_output/raw.ome.tif\"\n",
    "# tif = tifffile.TiffFile(raw_img)\n",
    "# height, width = tif.pages[0].shape"
   ]
  },
  {
   "cell_type": "code",
   "execution_count": null,
   "metadata": {},
   "outputs": [],
   "source": [
    "z = zarr.open(zarr_dir, \"r\")\n",
    "ids = z[\"cell_id\"]\n",
    "pols = z[\"polygon_vertices\"][1]\n",
    "\n",
    "label = np.zeros((height, width), dtype=np.min_scalar_type(max(ids)))\n",
    "\n",
    "for id, pol in zip(ids,pols):\n",
    "    pol = pol/res\n",
    "    pol = np.array(list(map(list, pol.reshape(pol.shape[0]//2,2))))\n",
    "    rr, cc = polygon(pol[:,1], pol[:,0])\n",
    "    label[rr-1, cc-1] = int(id)"
   ]
  },
  {
   "cell_type": "code",
   "execution_count": null,
   "metadata": {},
   "outputs": [],
   "source": [
    "tifffile.imwrite(os.path.join(out_dir, \"xenium_label.tif\"), label)"
   ]
  },
  {
   "cell_type": "code",
   "execution_count": null,
   "metadata": {},
   "outputs": [],
   "source": []
  }
 ],
 "metadata": {
  "kernelspec": {
   "display_name": "Python 3.10.8 64-bit",
   "language": "python",
   "name": "python3"
  },
  "language_info": {
   "codemirror_mode": {
    "name": "ipython",
    "version": 3
   },
   "file_extension": ".py",
   "mimetype": "text/x-python",
   "name": "python",
   "nbconvert_exporter": "python",
   "pygments_lexer": "ipython3",
   "version": "3.10.8"
  },
  "orig_nbformat": 4,
  "vscode": {
   "interpreter": {
    "hash": "b0fa6594d8f4cbf19f97940f81e996739fb7646882a419484c72d19e05852a7e"
   }
  }
 },
 "nbformat": 4,
 "nbformat_minor": 2
}
