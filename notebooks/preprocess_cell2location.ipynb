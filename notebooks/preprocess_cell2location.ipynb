{
 "cells": [
  {
   "cell_type": "code",
   "execution_count": null,
   "metadata": {},
   "outputs": [],
   "source": [
    "import os\n",
    "import json\n",
    "import h5py\n",
    "import anndata as ad\n",
    "import pandas as pd\n",
    "import numpy as np\n",
    "from scipy.sparse import spmatrix, hstack, csr_matrix, csc_matrix"
   ]
  },
  {
   "cell_type": "code",
   "execution_count": null,
   "metadata": {},
   "outputs": [],
   "source": [
    "out_dir = \"./\"\n",
    "out_h5ad_suffix = \"_celltypes\"\n",
    "c2l_output_h5ad_file = \"/path/to/anndata.h5ad\"\n",
    "spatial_h5ad_file = \"/path/to/spatial_anndata.h5ad\"\n",
    "q = \"q05_cell_abundance_w_sf\"\n",
    "\n",
    "# obs key and value tuple to get single sample from objects if applicable else None\n",
    "# e.g. sample = (\"sample\", \"sp1234\")\n",
    "sample = None\n",
    "\n",
    "# var key to reindex genes if applicable else None\n",
    "# e.g. var_reindex = \"SYMBOL\"\n",
    "var_reindex = None"
   ]
  },
  {
   "cell_type": "code",
   "execution_count": null,
   "metadata": {},
   "outputs": [],
   "source": [
    "# Read only obs, var and obsm from the cell2location output h5ad\n",
    "with h5py.File(c2l_output_h5ad_file) as f:\n",
    "    c2l_adata = ad.AnnData(\n",
    "        obs=ad._io.h5ad.read_elem(f[\"obs\"]) if \"obs\" in f else None,\n",
    "        var=ad._io.h5ad.read_elem(f[\"var\"]) if \"var\" in f else None,\n",
    "        obsm=ad._io.h5ad.read_elem(f[\"obsm\"]) if \"obsm\" in f else None,\n",
    "    )"
   ]
  },
  {
   "cell_type": "code",
   "execution_count": null,
   "metadata": {},
   "outputs": [],
   "source": [
    "# Create AnnData with cell2location obsm (cell type abundance) as X matrix\n",
    "cell_types = ad.AnnData(\n",
    "    c2l_adata.obsm[q].to_numpy(),\n",
    "    dtype=\"float32\",\n",
    "    obs=c2l_adata.obs,\n",
    "    var=c2l_adata.obsm[q].columns.str.replace(q.split(\"_\")[0] + \"cell_abundance_w_sf_\", \"\").to_frame(),\n",
    ")\n",
    "cell_types.var.drop(columns=0, inplace=True)\n",
    "cell_types.var.index.rename(\"CellType\", inplace=True)\n",
    "\n",
    "if sample:\n",
    "    cell_types = cell_types[cell_types.obs[sample[0]] == sample[1]]"
   ]
  },
  {
   "cell_type": "code",
   "execution_count": null,
   "metadata": {},
   "outputs": [],
   "source": [
    "spatial_adata = ad.read(spatial_h5ad_file)\n",
    "\n",
    "if sample:\n",
    "    spatial_adata = spatial_adata[spatial_adata.obs[sample[0]] == sample[1]]"
   ]
  },
  {
   "cell_type": "code",
   "execution_count": null,
   "metadata": {},
   "outputs": [],
   "source": [
    "# Optionally reindex var\n",
    "spatial_adata.var.reset_index(inplace=True)\n",
    "spatial_adata.var.set_index(var_reindex, inplace=True)\n",
    "spatial_adata.var.index = spatial_adata.var.index.astype(str)\n",
    "spatial_adata.var_names_make_unique()"
   ]
  },
  {
   "cell_type": "code",
   "execution_count": null,
   "metadata": {},
   "outputs": [],
   "source": [
    "cell_types.shape, spatial_adata.shape"
   ]
  },
  {
   "cell_type": "code",
   "execution_count": null,
   "metadata": {},
   "outputs": [],
   "source": [
    "# Create AnnData concatenating gene expression matrix and cell type abundance matrix\n",
    "if isinstance(spatial_adata.X, spmatrix):\n",
    "    adata_combined = ad.AnnData(\n",
    "        hstack((\n",
    "                spatial_adata.X,\n",
    "                csr_matrix(cell_types.X)\n",
    "                if isinstance(spatial_adata.X, csr_matrix)\n",
    "                else csc_matrix(cell_types.X),\n",
    "        )),\n",
    "        obs=spatial_adata.obs,\n",
    "        var=pd.concat([\n",
    "                spatial_adata.var.assign(is_gene=True),\n",
    "                cell_types.var.assign(is_celltype=True),\n",
    "            ],\n",
    "            axis=1,\n",
    "        ),\n",
    "    )\n",
    "else:\n",
    "    adata_combined = ad.AnnData(\n",
    "        np.hstack((spatial_adata.X, cell_types.X)),\n",
    "        obs=spatial_adata.obs,\n",
    "        var=pd.concat([\n",
    "                spatial_adata.var.assign(is_gene=True),\n",
    "                cell_types.var.assign(is_celltype=True),\n",
    "            ],\n",
    "            axis=1,\n",
    "        ),\n",
    "    )\n",
    "\n",
    "adata_combined.var[\"is_gene\"] = adata_combined.var[\"is_gene\"].fillna(False)\n",
    "adata_combined.var[\"is_celltype\"] = adata_combined.var[\"is_celltype\"].fillna(False)"
   ]
  },
  {
   "cell_type": "code",
   "execution_count": null,
   "metadata": {},
   "outputs": [],
   "source": [
    "# Ensure bool columns remain bool, filling nans with False or fill as appropriate\n",
    "for col in [col for col in spatial_adata.var_keys() if spatial_adata.var[col].dtype == bool]:\n",
    "    adata_combined.var[col] = adata_combined.var[col].fillna(False)\n",
    "for col in [col for col in cell_types.var_keys() if cell_types.var[col].dtype == bool]:\n",
    "    adata_combined.var[col] = adata_combined.var[col].fillna(False)"
   ]
  },
  {
   "cell_type": "code",
   "execution_count": null,
   "metadata": {},
   "outputs": [],
   "source": [
    "# Write h5ad\n",
    "out_file = os.path.join(\n",
    "        out_dir,\n",
    "        os.path.splitext(os.path.basename(spatial_h5ad_file))[0] + out_h5ad_suffix + \".h5ad\"\n",
    "    )\n",
    "    \n",
    "adata_combined.write_h5ad(out_file)"
   ]
  },
  {
   "cell_type": "code",
   "execution_count": null,
   "metadata": {},
   "outputs": [],
   "source": [
    "# Write list of genes to json\n",
    "out_genes_file = os.path.join(\n",
    "        out_dir,\n",
    "        os.path.splitext(os.path.basename(spatial_h5ad_file))[0] + \"_genes\" + \".json\"\n",
    "    )\n",
    "\n",
    "with open(out_genes_file, \"w\") as f:\n",
    "    json.dump(spatial_adata.var_names.tolist(), f)"
   ]
  },
  {
   "cell_type": "code",
   "execution_count": null,
   "metadata": {},
   "outputs": [],
   "source": [
    "# Write list of cell types to json\n",
    "out_celltypes_file = os.path.join(\n",
    "        out_dir,\n",
    "        os.path.splitext(os.path.basename(spatial_h5ad_file))[0] + \"_celltypes\" + \".json\"\n",
    "    )\n",
    "\n",
    "with open(out_celltypes_file, \"w\") as f:\n",
    "    json.dump(cell_types.var_names.tolist(), f)"
   ]
  },
  {
   "cell_type": "code",
   "execution_count": null,
   "metadata": {},
   "outputs": [],
   "source": []
  }
 ],
 "metadata": {
  "kernelspec": {
   "display_name": "Python 3.10.8 64-bit",
   "language": "python",
   "name": "python3"
  },
  "language_info": {
   "codemirror_mode": {
    "name": "ipython",
    "version": 3
   },
   "file_extension": ".py",
   "mimetype": "text/x-python",
   "name": "python",
   "nbconvert_exporter": "python",
   "pygments_lexer": "ipython3",
   "version": "3.10.8"
  },
  "orig_nbformat": 4,
  "vscode": {
   "interpreter": {
    "hash": "b0fa6594d8f4cbf19f97940f81e996739fb7646882a419484c72d19e05852a7e"
   }
  }
 },
 "nbformat": 4,
 "nbformat_minor": 2
}
